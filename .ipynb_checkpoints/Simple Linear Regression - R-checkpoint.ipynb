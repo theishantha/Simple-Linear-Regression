{
 "cells": [
  {
   "cell_type": "code",
   "execution_count": 1,
   "id": "b962a332",
   "metadata": {},
   "outputs": [],
   "source": [
    "# Importing the dataset\n",
    "dataset = read.csv('Salary_Data.csv')\n"
   ]
  },
  {
   "cell_type": "code",
   "execution_count": 2,
   "id": "9dc681af",
   "metadata": {},
   "outputs": [
    {
     "data": {
      "text/html": [
       "<table>\n",
       "<thead><tr><th scope=col>YearsExperience</th><th scope=col>Salary</th></tr></thead>\n",
       "<tbody>\n",
       "\t<tr><td> 1.1  </td><td> 39343</td></tr>\n",
       "\t<tr><td> 1.3  </td><td> 46205</td></tr>\n",
       "\t<tr><td> 1.5  </td><td> 37731</td></tr>\n",
       "\t<tr><td> 2.0  </td><td> 43525</td></tr>\n",
       "\t<tr><td> 2.2  </td><td> 39891</td></tr>\n",
       "\t<tr><td> 2.9  </td><td> 56642</td></tr>\n",
       "\t<tr><td> 3.0  </td><td> 60150</td></tr>\n",
       "\t<tr><td> 3.2  </td><td> 54445</td></tr>\n",
       "\t<tr><td> 3.2  </td><td> 64445</td></tr>\n",
       "\t<tr><td> 3.7  </td><td> 57189</td></tr>\n",
       "\t<tr><td> 3.9  </td><td> 63218</td></tr>\n",
       "\t<tr><td> 4.0  </td><td> 55794</td></tr>\n",
       "\t<tr><td> 4.0  </td><td> 56957</td></tr>\n",
       "\t<tr><td> 4.1  </td><td> 57081</td></tr>\n",
       "\t<tr><td> 4.5  </td><td> 61111</td></tr>\n",
       "\t<tr><td> 4.9  </td><td> 67938</td></tr>\n",
       "\t<tr><td> 5.1  </td><td> 66029</td></tr>\n",
       "\t<tr><td> 5.3  </td><td> 83088</td></tr>\n",
       "\t<tr><td> 5.9  </td><td> 81363</td></tr>\n",
       "\t<tr><td> 6.0  </td><td> 93940</td></tr>\n",
       "\t<tr><td> 6.8  </td><td> 91738</td></tr>\n",
       "\t<tr><td> 7.1  </td><td> 98273</td></tr>\n",
       "\t<tr><td> 7.9  </td><td>101302</td></tr>\n",
       "\t<tr><td> 8.2  </td><td>113812</td></tr>\n",
       "\t<tr><td> 8.7  </td><td>109431</td></tr>\n",
       "\t<tr><td> 9.0  </td><td>105582</td></tr>\n",
       "\t<tr><td> 9.5  </td><td>116969</td></tr>\n",
       "\t<tr><td> 9.6  </td><td>112635</td></tr>\n",
       "\t<tr><td>10.3  </td><td>122391</td></tr>\n",
       "\t<tr><td>10.5  </td><td>121872</td></tr>\n",
       "</tbody>\n",
       "</table>\n"
      ],
      "text/latex": [
       "\\begin{tabular}{r|ll}\n",
       " YearsExperience & Salary\\\\\n",
       "\\hline\n",
       "\t  1.1   &  39343\\\\\n",
       "\t  1.3   &  46205\\\\\n",
       "\t  1.5   &  37731\\\\\n",
       "\t  2.0   &  43525\\\\\n",
       "\t  2.2   &  39891\\\\\n",
       "\t  2.9   &  56642\\\\\n",
       "\t  3.0   &  60150\\\\\n",
       "\t  3.2   &  54445\\\\\n",
       "\t  3.2   &  64445\\\\\n",
       "\t  3.7   &  57189\\\\\n",
       "\t  3.9   &  63218\\\\\n",
       "\t  4.0   &  55794\\\\\n",
       "\t  4.0   &  56957\\\\\n",
       "\t  4.1   &  57081\\\\\n",
       "\t  4.5   &  61111\\\\\n",
       "\t  4.9   &  67938\\\\\n",
       "\t  5.1   &  66029\\\\\n",
       "\t  5.3   &  83088\\\\\n",
       "\t  5.9   &  81363\\\\\n",
       "\t  6.0   &  93940\\\\\n",
       "\t  6.8   &  91738\\\\\n",
       "\t  7.1   &  98273\\\\\n",
       "\t  7.9   & 101302\\\\\n",
       "\t  8.2   & 113812\\\\\n",
       "\t  8.7   & 109431\\\\\n",
       "\t  9.0   & 105582\\\\\n",
       "\t  9.5   & 116969\\\\\n",
       "\t  9.6   & 112635\\\\\n",
       "\t 10.3   & 122391\\\\\n",
       "\t 10.5   & 121872\\\\\n",
       "\\end{tabular}\n"
      ],
      "text/markdown": [
       "\n",
       "| YearsExperience | Salary |\n",
       "|---|---|\n",
       "|  1.1   |  39343 |\n",
       "|  1.3   |  46205 |\n",
       "|  1.5   |  37731 |\n",
       "|  2.0   |  43525 |\n",
       "|  2.2   |  39891 |\n",
       "|  2.9   |  56642 |\n",
       "|  3.0   |  60150 |\n",
       "|  3.2   |  54445 |\n",
       "|  3.2   |  64445 |\n",
       "|  3.7   |  57189 |\n",
       "|  3.9   |  63218 |\n",
       "|  4.0   |  55794 |\n",
       "|  4.0   |  56957 |\n",
       "|  4.1   |  57081 |\n",
       "|  4.5   |  61111 |\n",
       "|  4.9   |  67938 |\n",
       "|  5.1   |  66029 |\n",
       "|  5.3   |  83088 |\n",
       "|  5.9   |  81363 |\n",
       "|  6.0   |  93940 |\n",
       "|  6.8   |  91738 |\n",
       "|  7.1   |  98273 |\n",
       "|  7.9   | 101302 |\n",
       "|  8.2   | 113812 |\n",
       "|  8.7   | 109431 |\n",
       "|  9.0   | 105582 |\n",
       "|  9.5   | 116969 |\n",
       "|  9.6   | 112635 |\n",
       "| 10.3   | 122391 |\n",
       "| 10.5   | 121872 |\n",
       "\n"
      ],
      "text/plain": [
       "   YearsExperience Salary\n",
       "1   1.1             39343\n",
       "2   1.3             46205\n",
       "3   1.5             37731\n",
       "4   2.0             43525\n",
       "5   2.2             39891\n",
       "6   2.9             56642\n",
       "7   3.0             60150\n",
       "8   3.2             54445\n",
       "9   3.2             64445\n",
       "10  3.7             57189\n",
       "11  3.9             63218\n",
       "12  4.0             55794\n",
       "13  4.0             56957\n",
       "14  4.1             57081\n",
       "15  4.5             61111\n",
       "16  4.9             67938\n",
       "17  5.1             66029\n",
       "18  5.3             83088\n",
       "19  5.9             81363\n",
       "20  6.0             93940\n",
       "21  6.8             91738\n",
       "22  7.1             98273\n",
       "23  7.9            101302\n",
       "24  8.2            113812\n",
       "25  8.7            109431\n",
       "26  9.0            105582\n",
       "27  9.5            116969\n",
       "28  9.6            112635\n",
       "29 10.3            122391\n",
       "30 10.5            121872"
      ]
     },
     "metadata": {},
     "output_type": "display_data"
    }
   ],
   "source": [
    "dataset"
   ]
  },
  {
   "cell_type": "code",
   "execution_count": 3,
   "id": "76540999",
   "metadata": {},
   "outputs": [
    {
     "name": "stderr",
     "output_type": "stream",
     "text": [
      "Warning message:\n",
      "\"package 'caTools' was built under R version 3.6.3\""
     ]
    }
   ],
   "source": [
    "# Splitting the dataset into the Training set and Test set\n",
    "#install.packages('caTools')\n",
    "library(caTools)\n",
    "set.seed(123)\n",
    "split = sample.split(dataset$Salary, SplitRatio = 2/3)\n",
    "training_set = subset(dataset, split == TRUE)\n",
    "test_set = subset(dataset, split == FALSE)"
   ]
  },
  {
   "cell_type": "code",
   "execution_count": 4,
   "id": "bc5145c9",
   "metadata": {},
   "outputs": [],
   "source": [
    "#Fitting Simple Linear Regression to the Training set\n",
    "regressor = lm(formula = Salary ~ YearsExperience, data = training_set)"
   ]
  },
  {
   "cell_type": "code",
   "execution_count": 5,
   "id": "d8c09a77",
   "metadata": {},
   "outputs": [
    {
     "data": {
      "text/plain": [
       "\n",
       "Call:\n",
       "lm(formula = Salary ~ YearsExperience, data = training_set)\n",
       "\n",
       "Residuals:\n",
       "    Min      1Q  Median      3Q     Max \n",
       "-7325.1 -3814.4   427.7  3559.7  8884.6 \n",
       "\n",
       "Coefficients:\n",
       "                Estimate Std. Error t value Pr(>|t|)    \n",
       "(Intercept)        25592       2646   9.672 1.49e-08 ***\n",
       "YearsExperience     9365        421  22.245 1.52e-14 ***\n",
       "---\n",
       "Signif. codes:  0 '***' 0.001 '**' 0.01 '*' 0.05 '.' 0.1 ' ' 1\n",
       "\n",
       "Residual standard error: 5391 on 18 degrees of freedom\n",
       "Multiple R-squared:  0.9649,\tAdjusted R-squared:  0.963 \n",
       "F-statistic: 494.8 on 1 and 18 DF,  p-value: 1.524e-14\n"
      ]
     },
     "metadata": {},
     "output_type": "display_data"
    }
   ],
   "source": [
    "summary(regressor)"
   ]
  },
  {
   "cell_type": "code",
   "execution_count": 6,
   "id": "d10160a8",
   "metadata": {},
   "outputs": [],
   "source": [
    "y_pred = predict(regressor, newdata = test_set)"
   ]
  },
  {
   "cell_type": "code",
   "execution_count": 7,
   "id": "6f9b32a1",
   "metadata": {},
   "outputs": [
    {
     "data": {
      "text/html": [
       "<dl class=dl-horizontal>\n",
       "\t<dt>2</dt>\n",
       "\t\t<dd>37766.7736315146</dd>\n",
       "\t<dt>4</dt>\n",
       "\t\t<dd>44322.330897624</dd>\n",
       "\t<dt>5</dt>\n",
       "\t\t<dd>46195.3472593695</dd>\n",
       "\t<dt>8</dt>\n",
       "\t\t<dd>55560.4290680972</dd>\n",
       "\t<dt>11</dt>\n",
       "\t\t<dd>62115.9863342066</dd>\n",
       "\t<dt>16</dt>\n",
       "\t\t<dd>71481.0681429343</dd>\n",
       "\t<dt>20</dt>\n",
       "\t\t<dd>81782.6581325347</dd>\n",
       "\t<dt>21</dt>\n",
       "\t\t<dd>89274.7235795169</dd>\n",
       "\t<dt>24</dt>\n",
       "\t\t<dd>102385.838111736</dd>\n",
       "\t<dt>26</dt>\n",
       "\t\t<dd>109877.903558718</dd>\n",
       "</dl>\n"
      ],
      "text/latex": [
       "\\begin{description*}\n",
       "\\item[2] 37766.7736315146\n",
       "\\item[4] 44322.330897624\n",
       "\\item[5] 46195.3472593695\n",
       "\\item[8] 55560.4290680972\n",
       "\\item[11] 62115.9863342066\n",
       "\\item[16] 71481.0681429343\n",
       "\\item[20] 81782.6581325347\n",
       "\\item[21] 89274.7235795169\n",
       "\\item[24] 102385.838111736\n",
       "\\item[26] 109877.903558718\n",
       "\\end{description*}\n"
      ],
      "text/markdown": [
       "2\n",
       ":   37766.77363151464\n",
       ":   44322.3308976245\n",
       ":   46195.34725936958\n",
       ":   55560.429068097211\n",
       ":   62115.986334206616\n",
       ":   71481.068142934320\n",
       ":   81782.658132534721\n",
       ":   89274.723579516924\n",
       ":   102385.83811173626\n",
       ":   109877.903558718\n",
       "\n"
      ],
      "text/plain": [
       "        2         4         5         8        11        16        20        21 \n",
       " 37766.77  44322.33  46195.35  55560.43  62115.99  71481.07  81782.66  89274.72 \n",
       "       24        26 \n",
       "102385.84 109877.90 "
      ]
     },
     "metadata": {},
     "output_type": "display_data"
    }
   ],
   "source": [
    "y_pred"
   ]
  },
  {
   "cell_type": "code",
   "execution_count": 8,
   "id": "5337e259",
   "metadata": {},
   "outputs": [
    {
     "data": {
      "text/html": [
       "<table>\n",
       "<thead><tr><th></th><th scope=col>YearsExperience</th><th scope=col>Salary</th></tr></thead>\n",
       "<tbody>\n",
       "\t<tr><th scope=row>2</th><td>1.3   </td><td> 46205</td></tr>\n",
       "\t<tr><th scope=row>4</th><td>2.0   </td><td> 43525</td></tr>\n",
       "\t<tr><th scope=row>5</th><td>2.2   </td><td> 39891</td></tr>\n",
       "\t<tr><th scope=row>8</th><td>3.2   </td><td> 54445</td></tr>\n",
       "\t<tr><th scope=row>11</th><td>3.9   </td><td> 63218</td></tr>\n",
       "\t<tr><th scope=row>16</th><td>4.9   </td><td> 67938</td></tr>\n",
       "\t<tr><th scope=row>20</th><td>6.0   </td><td> 93940</td></tr>\n",
       "\t<tr><th scope=row>21</th><td>6.8   </td><td> 91738</td></tr>\n",
       "\t<tr><th scope=row>24</th><td>8.2   </td><td>113812</td></tr>\n",
       "\t<tr><th scope=row>26</th><td>9.0   </td><td>105582</td></tr>\n",
       "</tbody>\n",
       "</table>\n"
      ],
      "text/latex": [
       "\\begin{tabular}{r|ll}\n",
       "  & YearsExperience & Salary\\\\\n",
       "\\hline\n",
       "\t2 & 1.3    &  46205\\\\\n",
       "\t4 & 2.0    &  43525\\\\\n",
       "\t5 & 2.2    &  39891\\\\\n",
       "\t8 & 3.2    &  54445\\\\\n",
       "\t11 & 3.9    &  63218\\\\\n",
       "\t16 & 4.9    &  67938\\\\\n",
       "\t20 & 6.0    &  93940\\\\\n",
       "\t21 & 6.8    &  91738\\\\\n",
       "\t24 & 8.2    & 113812\\\\\n",
       "\t26 & 9.0    & 105582\\\\\n",
       "\\end{tabular}\n"
      ],
      "text/markdown": [
       "\n",
       "| <!--/--> | YearsExperience | Salary |\n",
       "|---|---|---|\n",
       "| 2 | 1.3    |  46205 |\n",
       "| 4 | 2.0    |  43525 |\n",
       "| 5 | 2.2    |  39891 |\n",
       "| 8 | 3.2    |  54445 |\n",
       "| 11 | 3.9    |  63218 |\n",
       "| 16 | 4.9    |  67938 |\n",
       "| 20 | 6.0    |  93940 |\n",
       "| 21 | 6.8    |  91738 |\n",
       "| 24 | 8.2    | 113812 |\n",
       "| 26 | 9.0    | 105582 |\n",
       "\n"
      ],
      "text/plain": [
       "   YearsExperience Salary\n",
       "2  1.3              46205\n",
       "4  2.0              43525\n",
       "5  2.2              39891\n",
       "8  3.2              54445\n",
       "11 3.9              63218\n",
       "16 4.9              67938\n",
       "20 6.0              93940\n",
       "21 6.8              91738\n",
       "24 8.2             113812\n",
       "26 9.0             105582"
      ]
     },
     "metadata": {},
     "output_type": "display_data"
    }
   ],
   "source": [
    "test_set"
   ]
  },
  {
   "cell_type": "code",
   "execution_count": 14,
   "id": "2217b1a9",
   "metadata": {},
   "outputs": [
    {
     "data": {
      "image/png": "[encoded data removed]",
      "text/plain": [
       "plot without title"
      ]
     },
     "metadata": {},
     "output_type": "display_data"
    }
   ],
   "source": [
    "#Visualising the Training set results\n",
    "#install.packages('ggplot2')\n",
    "library(ggplot2)\n",
    "ggplot() + geom_point(aes(x = training_set$YearsExperience, y = training_set$Salary), color = 'red') + geom_line(aes( x = training_set$YearsExperience, y = predict(regressor, newdata = training_set)))"
   ]
  },
  {
   "cell_type": "code",
   "execution_count": null,
   "id": "6e553ad0",
   "metadata": {},
   "outputs": [],
   "source": []
  }
 ],
 "metadata": {
  "kernelspec": {
   "display_name": "R",
   "language": "R",
   "name": "ir"
  },
  "language_info": {
   "codemirror_mode": "r",
   "file_extension": ".r",
   "mimetype": "text/x-r-source",
   "name": "R",
   "pygments_lexer": "r",
   "version": "3.6.1"
  }
 },
 "nbformat": 4,
 "nbformat_minor": 5
}
